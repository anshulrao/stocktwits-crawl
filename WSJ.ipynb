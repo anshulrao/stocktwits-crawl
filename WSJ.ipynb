{
 "cells": [
  {
   "cell_type": "code",
   "execution_count": 1,
   "id": "41c46bfa-2bf1-4db4-939e-9fe83537b7d3",
   "metadata": {},
   "outputs": [],
   "source": [
    "wsj_url = \"https://www.wsj.com/search?query=cryptocurrency&mod=searchresults_viewallresults\" "
   ]
  },
  {
   "cell_type": "code",
   "execution_count": 4,
   "id": "1847f87e-94a8-4a4b-b883-6777e81da5d4",
   "metadata": {
    "collapsed": true,
    "jupyter": {
     "outputs_hidden": true
    },
    "tags": []
   },
   "outputs": [
    {
     "name": "stdout",
     "output_type": "stream",
     "text": [
      "Collecting selenium\n",
      "  Downloading selenium-4.3.0-py3-none-any.whl (981 kB)\n",
      "\u001b[2K     \u001b[90m━━━━━━━━━━━━━━━━━━━━━━━━━━━━━━━━━━━━━━━\u001b[0m \u001b[32m981.4/981.4 KB\u001b[0m \u001b[31m4.9 MB/s\u001b[0m eta \u001b[36m0:00:00\u001b[0m00:01\u001b[0m00:01\u001b[0m\n",
      "\u001b[?25hCollecting trio~=0.17\n",
      "  Downloading trio-0.21.0-py3-none-any.whl (358 kB)\n",
      "\u001b[2K     \u001b[90m━━━━━━━━━━━━━━━━━━━━━━━━━━━━━━━━━━━━━━━\u001b[0m \u001b[32m359.0/359.0 KB\u001b[0m \u001b[31m3.4 MB/s\u001b[0m eta \u001b[36m0:00:00\u001b[0m00:01\u001b[0m00:01\u001b[0m\n",
      "\u001b[?25hCollecting trio-websocket~=0.9\n",
      "  Downloading trio_websocket-0.9.2-py3-none-any.whl (16 kB)\n",
      "Requirement already satisfied: urllib3[secure,socks]~=1.26 in /usr/local/lib/python3.9/site-packages (from selenium) (1.26.6)\n",
      "Requirement already satisfied: idna in /usr/local/lib/python3.9/site-packages (from trio~=0.17->selenium) (2.10)\n",
      "Requirement already satisfied: sniffio in /usr/local/lib/python3.9/site-packages (from trio~=0.17->selenium) (1.2.0)\n",
      "Collecting outcome\n",
      "  Downloading outcome-1.2.0-py2.py3-none-any.whl (9.7 kB)\n",
      "Collecting sortedcontainers\n",
      "  Downloading sortedcontainers-2.4.0-py2.py3-none-any.whl (29 kB)\n",
      "Requirement already satisfied: attrs>=19.2.0 in /usr/local/lib/python3.9/site-packages (from trio~=0.17->selenium) (21.4.0)\n",
      "Collecting async-generator>=1.9\n",
      "  Downloading async_generator-1.10-py3-none-any.whl (18 kB)\n",
      "Collecting wsproto>=0.14\n",
      "  Downloading wsproto-1.1.0-py3-none-any.whl (24 kB)\n",
      "Collecting PySocks!=1.5.7,<2.0,>=1.5.6\n",
      "  Downloading PySocks-1.7.1-py3-none-any.whl (16 kB)\n",
      "Collecting cryptography>=1.3.4\n",
      "  Downloading cryptography-37.0.2-cp36-abi3-macosx_10_10_x86_64.whl (2.8 MB)\n",
      "\u001b[2K     \u001b[90m━━━━━━━━━━━━━━━━━━━━━━━━━━━━━━━━━━━━━━━━\u001b[0m \u001b[32m2.8/2.8 MB\u001b[0m \u001b[31m5.2 MB/s\u001b[0m eta \u001b[36m0:00:00\u001b[0m00:01\u001b[0m00:01\u001b[0m\n",
      "\u001b[?25hCollecting pyOpenSSL>=0.14\n",
      "  Downloading pyOpenSSL-22.0.0-py2.py3-none-any.whl (55 kB)\n",
      "\u001b[2K     \u001b[90m━━━━━━━━━━━━━━━━━━━━━━━━━━━━━━━━━━━━━━━━\u001b[0m \u001b[32m55.8/55.8 KB\u001b[0m \u001b[31m1.7 MB/s\u001b[0m eta \u001b[36m0:00:00\u001b[0m\n",
      "\u001b[?25hRequirement already satisfied: certifi in /usr/local/lib/python3.9/site-packages (from urllib3[secure,socks]~=1.26->selenium) (2021.5.30)\n",
      "Requirement already satisfied: cffi>=1.12 in /usr/local/lib/python3.9/site-packages (from cryptography>=1.3.4->urllib3[secure,socks]~=1.26->selenium) (1.15.0)\n",
      "Collecting h11<1,>=0.9.0\n",
      "  Downloading h11-0.13.0-py3-none-any.whl (58 kB)\n",
      "\u001b[2K     \u001b[90m━━━━━━━━━━━━━━━━━━━━━━━━━━━━━━━━━━━━━━━━\u001b[0m \u001b[32m58.2/58.2 KB\u001b[0m \u001b[31m2.1 MB/s\u001b[0m eta \u001b[36m0:00:00\u001b[0m\n",
      "\u001b[?25hRequirement already satisfied: pycparser in /usr/local/lib/python3.9/site-packages (from cffi>=1.12->cryptography>=1.3.4->urllib3[secure,socks]~=1.26->selenium) (2.21)\n",
      "Installing collected packages: sortedcontainers, PySocks, outcome, h11, async-generator, wsproto, trio, cryptography, trio-websocket, pyOpenSSL, selenium\n",
      "Successfully installed PySocks-1.7.1 async-generator-1.10 cryptography-37.0.2 h11-0.13.0 outcome-1.2.0 pyOpenSSL-22.0.0 selenium-4.3.0 sortedcontainers-2.4.0 trio-0.21.0 trio-websocket-0.9.2 wsproto-1.1.0\n",
      "\u001b[33mWARNING: You are using pip version 22.0.3; however, version 22.1.2 is available.\n",
      "You should consider upgrading via the '/Users/anshulrao/ipy-jupyter-venv3/bin/python -m pip install --upgrade pip' command.\u001b[0m\u001b[33m\n",
      "\u001b[0m"
     ]
    }
   ],
   "source": [
    "!pip install selenium"
   ]
  },
  {
   "cell_type": "code",
   "execution_count": 6,
   "id": "83b3eadd-5a06-46f4-8257-a80dd90fba27",
   "metadata": {
    "collapsed": true,
    "jupyter": {
     "outputs_hidden": true
    },
    "tags": []
   },
   "outputs": [
    {
     "name": "stdout",
     "output_type": "stream",
     "text": [
      "Collecting webdriver-manager\n",
      "  Downloading webdriver_manager-3.7.1-py2.py3-none-any.whl (25 kB)\n",
      "Collecting python-dotenv\n",
      "  Downloading python_dotenv-0.20.0-py3-none-any.whl (17 kB)\n",
      "Requirement already satisfied: requests in /usr/local/lib/python3.9/site-packages (from webdriver-manager) (2.25.1)\n",
      "Requirement already satisfied: certifi>=2017.4.17 in /usr/local/lib/python3.9/site-packages (from requests->webdriver-manager) (2021.5.30)\n",
      "Requirement already satisfied: chardet<5,>=3.0.2 in /usr/local/lib/python3.9/site-packages (from requests->webdriver-manager) (4.0.0)\n",
      "Requirement already satisfied: urllib3<1.27,>=1.21.1 in /usr/local/lib/python3.9/site-packages (from requests->webdriver-manager) (1.26.6)\n",
      "Requirement already satisfied: idna<3,>=2.5 in /usr/local/lib/python3.9/site-packages (from requests->webdriver-manager) (2.10)\n",
      "Installing collected packages: python-dotenv, webdriver-manager\n",
      "Successfully installed python-dotenv-0.20.0 webdriver-manager-3.7.1\n",
      "\u001b[33mWARNING: You are using pip version 22.0.3; however, version 22.1.2 is available.\n",
      "You should consider upgrading via the '/Users/anshulrao/ipy-jupyter-venv3/bin/python -m pip install --upgrade pip' command.\u001b[0m\u001b[33m\n",
      "\u001b[0m"
     ]
    }
   ],
   "source": [
    "!pip install webdriver-manager"
   ]
  },
  {
   "cell_type": "code",
   "execution_count": 9,
   "id": "48fa8f8b-dab1-49d4-8f18-0a543890c8e9",
   "metadata": {},
   "outputs": [
    {
     "name": "stdout",
     "output_type": "stream",
     "text": [
      "\n"
     ]
    },
    {
     "name": "stderr",
     "output_type": "stream",
     "text": [
      "[WDM] - ====== WebDriver manager ======\n",
      "[WDM] - Current google-chrome version is 103.0.5060\n",
      "[WDM] - Get LATEST chromedriver version for 103.0.5060 google-chrome\n",
      "[WDM] - Driver [/Users/anshulrao/.wdm/drivers/chromedriver/mac64/103.0.5060.53/chromedriver] found in cache\n",
      "/var/folders/rd/80b2d3pj44n9nwhd83335__40000gn/T/ipykernel_1337/2160715986.py:4: DeprecationWarning: executable_path has been deprecated, please pass in a Service object\n",
      "  driver = webdriver.Chrome(ChromeDriverManager().install())\n"
     ]
    }
   ],
   "source": [
    "from selenium import webdriver\n",
    "from webdriver_manager.chrome import ChromeDriverManager\n",
    "\n",
    "driver = webdriver.Chrome(ChromeDriverManager().install())"
   ]
  },
  {
   "cell_type": "code",
   "execution_count": 10,
   "id": "86e08a98-3917-4db8-a233-865d388163ba",
   "metadata": {},
   "outputs": [],
   "source": [
    "driver.get(wsj_url)"
   ]
  },
  {
   "cell_type": "code",
   "execution_count": 12,
   "id": "9aea525e-9294-4d9d-8e99-2fbbc0c3f958",
   "metadata": {},
   "outputs": [],
   "source": [
    "from selenium.webdriver.common.by import By"
   ]
  },
  {
   "cell_type": "code",
   "execution_count": 30,
   "id": "876692de-85f3-4521-9a02-fb83363d892d",
   "metadata": {},
   "outputs": [],
   "source": [
    "title_xpath = '//*[@id=\"main\"]/div/div[1]/article[{}]/div/div[1]/div[1]/div[2]/h3/a'"
   ]
  },
  {
   "cell_type": "code",
   "execution_count": 32,
   "id": "1496c438-0753-459c-bedd-38ff7bfd8665",
   "metadata": {},
   "outputs": [],
   "source": [
    "body_xpath = '//*[@id=\"main\"]/div/div[1]/article[{}]/div/div[1]/div[1]/p'"
   ]
  },
  {
   "cell_type": "code",
   "execution_count": 35,
   "id": "36390701-79d1-45dc-b6a9-2cc698554a10",
   "metadata": {},
   "outputs": [],
   "source": [
    "articles = {\n",
    "    'title': [],\n",
    "    'body': [],\n",
    "    'link': []\n",
    "}"
   ]
  },
  {
   "cell_type": "code",
   "execution_count": 36,
   "id": "73502290-0c33-442e-9d2d-89c48ec4ce04",
   "metadata": {},
   "outputs": [],
   "source": [
    "# reading the 20 articles present on the page\n",
    "limit = 20\n",
    "for i in range(1, limit + 1):\n",
    "    title_elem = driver.find_element(By.XPATH, title_xpath.format(i))\n",
    "    articles['title'].append(title_elem.text)\n",
    "    articles['link'].append(title_elem.get_attribute('href'))\n",
    "    body_elem = driver.find_element(By.XPATH, body_xpath.format(i))\n",
    "    articles['body'].append(body_elem.text)"
   ]
  },
  {
   "cell_type": "code",
   "execution_count": 37,
   "id": "645c17d3-cb3b-418f-9276-7dbdbefa9d58",
   "metadata": {
    "collapsed": true,
    "jupyter": {
     "outputs_hidden": true
    },
    "tags": []
   },
   "outputs": [
    {
     "data": {
      "text/plain": [
       "{'title': ['Stocks Waver as Central Bankers Hold Panel',\n",
       "  'Crypto Hedge Fund Three Arrows Ordered to Liquidate by Court',\n",
       "  'DeFi’s Existential Problem: It Only Lends Money to Itself',\n",
       "  'Behind the Celsius Sales Pitch Was a Crypto Firm Built on Risk',\n",
       "  'What Happens If a Crypto Platform Goes Bankrupt?',\n",
       "  'NFT Artists Get First Major Test Since Crypto’s Collapse',\n",
       "  'Opinion: ‘Irrational Exuberance’ on a Plate',\n",
       "  'Do Kwon Tries Again After $40 Billion Crypto Crash',\n",
       "  'Hedge Funds Bet Against Tether, as Crypto Melts Down',\n",
       "  'How Margin Calls Can Transform Market Downturns Into Market Crashes',\n",
       "  'Risk of Lockdowns in China Delays Return to Business as Usual',\n",
       "  'Do Kwon Tries Again After $40 Billion Crypto Crash',\n",
       "  'Robinhood Shares Soar on Takeover Hopes',\n",
       "  'Crypto Hedge Fund Three Arrows Defaulted on Loan, Says Broker',\n",
       "  'Studios Battle for Players of ‘Hypercasual’ Videogames, the Latest Mobile Distraction',\n",
       "  'Marketers at NFT.NYC Upbeat on Brand-Building in the Metaverse',\n",
       "  'More Hedge Funds Bet Against Tether as Crypto Melts Down',\n",
       "  'VR Tech to Combat Social Isolation Among Seniors',\n",
       "  'Dow Jumps as Rate-Hike Expectations Cool',\n",
       "  'Banks Face Risks From Geopolitics, Staff Turnover, OCC Says'],\n",
       " 'body': ['The panel of major central bank officials is expected to provide insight into their views on the economy, inflation and the path of monetary policy.',\n",
       "  'A British Virgin Islands court ordered the liquidation of the cryptocurrency hedge fund after creditors sued it for failure to repay debts.',\n",
       "  'Crypto lenders’ exclusive focus on other crypto projects suggests that their problems run much deeper than a Lehman-style liquidity crisis.',\n",
       "  'Celsius CEO Alex Mashinsky built his cryptocurrency lender on a pitch that it was better than a bank. But investor documents show it had far more risk than a traditional lender. ',\n",
       "  'When cryptocurrency lending platform Celsius froze user accounts amid a plunge in valuations, it sent ripples across the industry and raised questions about what happens to user assets if a crypto platform files for bankruptcy. WSJ’s Vicky Ge Huang explains. Photo illustration: Jordan Kranse',\n",
       "  'Last year Christie’s sold nearly $150 million worth of NFTs. This year? So far, it’s only sold $4.6 million in NFT art.',\n",
       "  'A bursting of the fake-burger bubble.',\n",
       "  'Algorithmic stablecoin TerraUSD was supposed to maintain its value at $1 with the help of its sister-crypto, Luna. But TerraUSD’s price collapsed to pennies in May, while Luna plunged by more than 99%, wiping out around $40 billion in value. Their creator Do Kwon has been attempting a comeback by relaunching Luna. Wall Street Journal markets reporter Alexander Osipovich joins WSJ Tech News Briefing host Julie Chang to explain the collapse of Do Kwon’s crypto empire and what his second try looks like.',\n",
       "  'Short sellers have been ramping up their bets against tether, the world’s largest stablecoin, amid a broad market selloff that has called into doubt the financial health of some crypto companies. Wall Street Journal markets reporter Caitlin McCabe joins WSJ What’s News host Luke Vargas with more.',\n",
       "  'Investors rarely hear about margin calls except during market downturns. WSJ’s Dion Rabouin explains what they are and the unique way they are contributing to the current cryptocurrency crash. Illustration: Adele Morgan',\n",
       "  'A.M. Edition for June 28. The city of Shanghai may be emerging from a monthslong Covid-induced lockdown, but for companies across China, concerns about abrupt future lockdowns loom large. WSJ China corporate correspondent Liza Lin explains how a recent cycle of pandemic restrictions could complicate future business decisions and risk denting consumer activity. Luke Vargas hosts.',\n",
       "  'Algorithmic stablecoin TerraUSD was supposed to maintain its value at $1 with the help of its sister-crypto, Luna. But TerraUSD’s price collapsed to pennies in May, while Luna plunged by more than 99%, wiping out around $40 billion in value. Their creator Do Kwon has been attempting a comeback by relaunching Luna. WSJ markets reporter Alexander Osipovich joins host Julie Chang to explain the collapse of Do Kwon’s crypto empire and what his second try looks like.',\n",
       "  'Robinhood Markets shares surged Monday on reports that cryptocurrency exchange FTX is exploring a potential acquisition of the brokerage.',\n",
       "  'Three Arrows has defaulted, failing to make loan payments tied to large bets in the digital-currency realm, crypto broker Voyager Digital said.',\n",
       "  'Mobile games that require little brainpower to play are becoming more sophisticated as their publishers try to cling on to fickle—and monetizable—players.',\n",
       "  'Companies’ enthusiasm for the advertising potential of the virtual world was undimmed at NFT.NYC, a four-day event last week, in contrast to the recent downturn in cryptocurrencies and NFTs.',\n",
       "  'Short sellers have been ramping up their bets against tether, the world’s largest stablecoin, amid a broad market selloff that has called into doubt the financial health of some crypto companies.',\n",
       "  \"To tackle social isolation among seniors, some caregivers have turned to virtual reality. One company developing that technology is Rendever. At The Wall Street Journal's recent Future of Everything Festival, personal tech columnist Nicole Nguyen spoke with Rendever’s co-founder and CEO about where this tech stands today and how it can be leveraged to transform the day-to-day lives of residents in senior communities. Julie Chang hosts.\",\n",
       "  'U.S. stock indexes moved more than 2% higher, as investors shifted their views about central bank policy after weak economic data.',\n",
       "  'The Office of the Comptroller of the Currency said geopolitical events, inflation and higher interest rates are posing headwinds for banks.'],\n",
       " 'link': ['https://www.wsj.com/articles/global-stocks-markets-dow-update-06-29-2022-11656487667?page=1',\n",
       "  'https://www.wsj.com/articles/crypto-fund-three-arrows-ordered-to-liquidate-by-court-11656506404?page=1',\n",
       "  'https://www.wsj.com/articles/defis-existential-problem-it-only-lends-money-to-itself-11656503840?page=1',\n",
       "  'https://www.wsj.com/articles/behind-the-celsius-sales-pitch-was-a-crypto-firm-built-on-risk-11656498142?page=1',\n",
       "  'https://www.wsj.com/video/series/news-explainers/what-happens-if-a-crypto-platform-goes-bankrupt/492D3C38-C15A-4654-AA1F-9CFDC52CEADB?page=1',\n",
       "  'https://www.wsj.com/articles/nft-artists-get-first-major-test-since-cryptos-collapse-11656453852?page=1',\n",
       "  'https://www.wsj.com/articles/irrational-exuberance-on-a-plate-11656435348?page=1',\n",
       "  'https://www.wsj.com/podcasts/google-news-update/do-kwon-tries-again-after-40-billion-crypto-crash/A5C77DD5-6385-492C-AA5F-0FB353DF9DA8?page=1',\n",
       "  'https://www.wsj.com/podcasts/google-news-update/hedge-funds-bet-against-tether-as-crypto-melts-down/44684BF4-3B44-456C-903F-20A86D3A24C1?page=1',\n",
       "  'https://www.wsj.com/video/series/dion-rabouin/how-margin-calls-can-transform-market-downturns-into-market-crashes/D4936064-C30C-4BA6-801D-13EB6703A5B1?page=1',\n",
       "  'https://www.wsj.com/podcasts/whats-news/risk-of-lockdowns-in-china-delays-return-to-business-as-usual/3FE3FCBE-C20D-479E-A56A-E6520D29AFCB?page=1',\n",
       "  'https://www.wsj.com/podcasts/tech-news-briefing/do-kwon-tries-again-after-40-billion-crypto-crash/E657E91A-15A7-4234-99DE-78F9DD5B3079?page=1',\n",
       "  'https://www.wsj.com/articles/robinhood-shares-soar-on-takeover-hopes-11656362590?page=1',\n",
       "  'https://www.wsj.com/articles/crypto-hedge-fund-three-arrows-defaulted-on-loan-says-broker-voyager-digital-11656336534?page=1',\n",
       "  'https://www.wsj.com/articles/studios-battle-for-players-of-hypercasual-videogames-the-latest-mobile-distraction-11656324001?page=1',\n",
       "  'https://www.wsj.com/articles/marketers-at-nft-nyc-upbeat-on-brand-building-in-the-metaverse-11656324000?page=1',\n",
       "  'https://www.wsj.com/articles/more-hedge-funds-are-betting-against-tether-as-crypto-melts-down-11656322200?page=1',\n",
       "  'https://www.wsj.com/podcasts/tech-news-briefing/vr-tech-to-combat-social-isolation-among-seniors/ABEBD6F8-EFBF-4314-BC49-617CF092D9CE?page=1',\n",
       "  'https://www.wsj.com/articles/global-stocks-markets-dow-update-06-24-2022-11656055923?page=1',\n",
       "  'https://www.wsj.com/articles/banks-face-risks-from-geopolitics-staff-turnover-occ-says-11656099709?page=1']}"
      ]
     },
     "execution_count": 37,
     "metadata": {},
     "output_type": "execute_result"
    }
   ],
   "source": [
    "articles"
   ]
  },
  {
   "cell_type": "code",
   "execution_count": 38,
   "id": "e6ebadaa-71d8-41e5-8b43-1fc500febc3f",
   "metadata": {},
   "outputs": [],
   "source": [
    "import pandas as pd"
   ]
  },
  {
   "cell_type": "code",
   "execution_count": 41,
   "id": "bdfe0522-2a44-49cb-b924-ce30ed0a36fb",
   "metadata": {},
   "outputs": [],
   "source": [
    "df = pd.DataFrame(articles)"
   ]
  },
  {
   "cell_type": "code",
   "execution_count": 42,
   "id": "7d9f2b40-3343-487f-9796-88cde2594232",
   "metadata": {},
   "outputs": [
    {
     "data": {
      "text/html": [
       "<div>\n",
       "<style scoped>\n",
       "    .dataframe tbody tr th:only-of-type {\n",
       "        vertical-align: middle;\n",
       "    }\n",
       "\n",
       "    .dataframe tbody tr th {\n",
       "        vertical-align: top;\n",
       "    }\n",
       "\n",
       "    .dataframe thead th {\n",
       "        text-align: right;\n",
       "    }\n",
       "</style>\n",
       "<table border=\"1\" class=\"dataframe\">\n",
       "  <thead>\n",
       "    <tr style=\"text-align: right;\">\n",
       "      <th></th>\n",
       "      <th>title</th>\n",
       "      <th>body</th>\n",
       "      <th>link</th>\n",
       "    </tr>\n",
       "  </thead>\n",
       "  <tbody>\n",
       "    <tr>\n",
       "      <th>0</th>\n",
       "      <td>Stocks Waver as Central Bankers Hold Panel</td>\n",
       "      <td>The panel of major central bank officials is e...</td>\n",
       "      <td>https://www.wsj.com/articles/global-stocks-mar...</td>\n",
       "    </tr>\n",
       "    <tr>\n",
       "      <th>1</th>\n",
       "      <td>Crypto Hedge Fund Three Arrows Ordered to Liqu...</td>\n",
       "      <td>A British Virgin Islands court ordered the liq...</td>\n",
       "      <td>https://www.wsj.com/articles/crypto-fund-three...</td>\n",
       "    </tr>\n",
       "    <tr>\n",
       "      <th>2</th>\n",
       "      <td>DeFi’s Existential Problem: It Only Lends Mone...</td>\n",
       "      <td>Crypto lenders’ exclusive focus on other crypt...</td>\n",
       "      <td>https://www.wsj.com/articles/defis-existential...</td>\n",
       "    </tr>\n",
       "    <tr>\n",
       "      <th>3</th>\n",
       "      <td>Behind the Celsius Sales Pitch Was a Crypto Fi...</td>\n",
       "      <td>Celsius CEO Alex Mashinsky built his cryptocur...</td>\n",
       "      <td>https://www.wsj.com/articles/behind-the-celsiu...</td>\n",
       "    </tr>\n",
       "    <tr>\n",
       "      <th>4</th>\n",
       "      <td>What Happens If a Crypto Platform Goes Bankrupt?</td>\n",
       "      <td>When cryptocurrency lending platform Celsius f...</td>\n",
       "      <td>https://www.wsj.com/video/series/news-explaine...</td>\n",
       "    </tr>\n",
       "    <tr>\n",
       "      <th>5</th>\n",
       "      <td>NFT Artists Get First Major Test Since Crypto’...</td>\n",
       "      <td>Last year Christie’s sold nearly $150 million ...</td>\n",
       "      <td>https://www.wsj.com/articles/nft-artists-get-f...</td>\n",
       "    </tr>\n",
       "    <tr>\n",
       "      <th>6</th>\n",
       "      <td>Opinion: ‘Irrational Exuberance’ on a Plate</td>\n",
       "      <td>A bursting of the fake-burger bubble.</td>\n",
       "      <td>https://www.wsj.com/articles/irrational-exuber...</td>\n",
       "    </tr>\n",
       "    <tr>\n",
       "      <th>7</th>\n",
       "      <td>Do Kwon Tries Again After $40 Billion Crypto C...</td>\n",
       "      <td>Algorithmic stablecoin TerraUSD was supposed t...</td>\n",
       "      <td>https://www.wsj.com/podcasts/google-news-updat...</td>\n",
       "    </tr>\n",
       "    <tr>\n",
       "      <th>8</th>\n",
       "      <td>Hedge Funds Bet Against Tether, as Crypto Melt...</td>\n",
       "      <td>Short sellers have been ramping up their bets ...</td>\n",
       "      <td>https://www.wsj.com/podcasts/google-news-updat...</td>\n",
       "    </tr>\n",
       "    <tr>\n",
       "      <th>9</th>\n",
       "      <td>How Margin Calls Can Transform Market Downturn...</td>\n",
       "      <td>Investors rarely hear about margin calls excep...</td>\n",
       "      <td>https://www.wsj.com/video/series/dion-rabouin/...</td>\n",
       "    </tr>\n",
       "    <tr>\n",
       "      <th>10</th>\n",
       "      <td>Risk of Lockdowns in China Delays Return to Bu...</td>\n",
       "      <td>A.M. Edition for June 28. The city of Shanghai...</td>\n",
       "      <td>https://www.wsj.com/podcasts/whats-news/risk-o...</td>\n",
       "    </tr>\n",
       "    <tr>\n",
       "      <th>11</th>\n",
       "      <td>Do Kwon Tries Again After $40 Billion Crypto C...</td>\n",
       "      <td>Algorithmic stablecoin TerraUSD was supposed t...</td>\n",
       "      <td>https://www.wsj.com/podcasts/tech-news-briefin...</td>\n",
       "    </tr>\n",
       "    <tr>\n",
       "      <th>12</th>\n",
       "      <td>Robinhood Shares Soar on Takeover Hopes</td>\n",
       "      <td>Robinhood Markets shares surged Monday on repo...</td>\n",
       "      <td>https://www.wsj.com/articles/robinhood-shares-...</td>\n",
       "    </tr>\n",
       "    <tr>\n",
       "      <th>13</th>\n",
       "      <td>Crypto Hedge Fund Three Arrows Defaulted on Lo...</td>\n",
       "      <td>Three Arrows has defaulted, failing to make lo...</td>\n",
       "      <td>https://www.wsj.com/articles/crypto-hedge-fund...</td>\n",
       "    </tr>\n",
       "    <tr>\n",
       "      <th>14</th>\n",
       "      <td>Studios Battle for Players of ‘Hypercasual’ Vi...</td>\n",
       "      <td>Mobile games that require little brainpower to...</td>\n",
       "      <td>https://www.wsj.com/articles/studios-battle-fo...</td>\n",
       "    </tr>\n",
       "    <tr>\n",
       "      <th>15</th>\n",
       "      <td>Marketers at NFT.NYC Upbeat on Brand-Building ...</td>\n",
       "      <td>Companies’ enthusiasm for the advertising pote...</td>\n",
       "      <td>https://www.wsj.com/articles/marketers-at-nft-...</td>\n",
       "    </tr>\n",
       "    <tr>\n",
       "      <th>16</th>\n",
       "      <td>More Hedge Funds Bet Against Tether as Crypto ...</td>\n",
       "      <td>Short sellers have been ramping up their bets ...</td>\n",
       "      <td>https://www.wsj.com/articles/more-hedge-funds-...</td>\n",
       "    </tr>\n",
       "    <tr>\n",
       "      <th>17</th>\n",
       "      <td>VR Tech to Combat Social Isolation Among Seniors</td>\n",
       "      <td>To tackle social isolation among seniors, some...</td>\n",
       "      <td>https://www.wsj.com/podcasts/tech-news-briefin...</td>\n",
       "    </tr>\n",
       "    <tr>\n",
       "      <th>18</th>\n",
       "      <td>Dow Jumps as Rate-Hike Expectations Cool</td>\n",
       "      <td>U.S. stock indexes moved more than 2% higher, ...</td>\n",
       "      <td>https://www.wsj.com/articles/global-stocks-mar...</td>\n",
       "    </tr>\n",
       "    <tr>\n",
       "      <th>19</th>\n",
       "      <td>Banks Face Risks From Geopolitics, Staff Turno...</td>\n",
       "      <td>The Office of the Comptroller of the Currency ...</td>\n",
       "      <td>https://www.wsj.com/articles/banks-face-risks-...</td>\n",
       "    </tr>\n",
       "  </tbody>\n",
       "</table>\n",
       "</div>"
      ],
      "text/plain": [
       "                                                title  \\\n",
       "0          Stocks Waver as Central Bankers Hold Panel   \n",
       "1   Crypto Hedge Fund Three Arrows Ordered to Liqu...   \n",
       "2   DeFi’s Existential Problem: It Only Lends Mone...   \n",
       "3   Behind the Celsius Sales Pitch Was a Crypto Fi...   \n",
       "4    What Happens If a Crypto Platform Goes Bankrupt?   \n",
       "5   NFT Artists Get First Major Test Since Crypto’...   \n",
       "6         Opinion: ‘Irrational Exuberance’ on a Plate   \n",
       "7   Do Kwon Tries Again After $40 Billion Crypto C...   \n",
       "8   Hedge Funds Bet Against Tether, as Crypto Melt...   \n",
       "9   How Margin Calls Can Transform Market Downturn...   \n",
       "10  Risk of Lockdowns in China Delays Return to Bu...   \n",
       "11  Do Kwon Tries Again After $40 Billion Crypto C...   \n",
       "12            Robinhood Shares Soar on Takeover Hopes   \n",
       "13  Crypto Hedge Fund Three Arrows Defaulted on Lo...   \n",
       "14  Studios Battle for Players of ‘Hypercasual’ Vi...   \n",
       "15  Marketers at NFT.NYC Upbeat on Brand-Building ...   \n",
       "16  More Hedge Funds Bet Against Tether as Crypto ...   \n",
       "17   VR Tech to Combat Social Isolation Among Seniors   \n",
       "18           Dow Jumps as Rate-Hike Expectations Cool   \n",
       "19  Banks Face Risks From Geopolitics, Staff Turno...   \n",
       "\n",
       "                                                 body  \\\n",
       "0   The panel of major central bank officials is e...   \n",
       "1   A British Virgin Islands court ordered the liq...   \n",
       "2   Crypto lenders’ exclusive focus on other crypt...   \n",
       "3   Celsius CEO Alex Mashinsky built his cryptocur...   \n",
       "4   When cryptocurrency lending platform Celsius f...   \n",
       "5   Last year Christie’s sold nearly $150 million ...   \n",
       "6               A bursting of the fake-burger bubble.   \n",
       "7   Algorithmic stablecoin TerraUSD was supposed t...   \n",
       "8   Short sellers have been ramping up their bets ...   \n",
       "9   Investors rarely hear about margin calls excep...   \n",
       "10  A.M. Edition for June 28. The city of Shanghai...   \n",
       "11  Algorithmic stablecoin TerraUSD was supposed t...   \n",
       "12  Robinhood Markets shares surged Monday on repo...   \n",
       "13  Three Arrows has defaulted, failing to make lo...   \n",
       "14  Mobile games that require little brainpower to...   \n",
       "15  Companies’ enthusiasm for the advertising pote...   \n",
       "16  Short sellers have been ramping up their bets ...   \n",
       "17  To tackle social isolation among seniors, some...   \n",
       "18  U.S. stock indexes moved more than 2% higher, ...   \n",
       "19  The Office of the Comptroller of the Currency ...   \n",
       "\n",
       "                                                 link  \n",
       "0   https://www.wsj.com/articles/global-stocks-mar...  \n",
       "1   https://www.wsj.com/articles/crypto-fund-three...  \n",
       "2   https://www.wsj.com/articles/defis-existential...  \n",
       "3   https://www.wsj.com/articles/behind-the-celsiu...  \n",
       "4   https://www.wsj.com/video/series/news-explaine...  \n",
       "5   https://www.wsj.com/articles/nft-artists-get-f...  \n",
       "6   https://www.wsj.com/articles/irrational-exuber...  \n",
       "7   https://www.wsj.com/podcasts/google-news-updat...  \n",
       "8   https://www.wsj.com/podcasts/google-news-updat...  \n",
       "9   https://www.wsj.com/video/series/dion-rabouin/...  \n",
       "10  https://www.wsj.com/podcasts/whats-news/risk-o...  \n",
       "11  https://www.wsj.com/podcasts/tech-news-briefin...  \n",
       "12  https://www.wsj.com/articles/robinhood-shares-...  \n",
       "13  https://www.wsj.com/articles/crypto-hedge-fund...  \n",
       "14  https://www.wsj.com/articles/studios-battle-fo...  \n",
       "15  https://www.wsj.com/articles/marketers-at-nft-...  \n",
       "16  https://www.wsj.com/articles/more-hedge-funds-...  \n",
       "17  https://www.wsj.com/podcasts/tech-news-briefin...  \n",
       "18  https://www.wsj.com/articles/global-stocks-mar...  \n",
       "19  https://www.wsj.com/articles/banks-face-risks-...  "
      ]
     },
     "execution_count": 42,
     "metadata": {},
     "output_type": "execute_result"
    }
   ],
   "source": [
    "df"
   ]
  },
  {
   "cell_type": "code",
   "execution_count": 44,
   "id": "eee5d73f-158e-4f4a-bf63-cf8efe31a4cb",
   "metadata": {},
   "outputs": [],
   "source": [
    "df.to_csv(\"wsj_articles.csv\", index=False)"
   ]
  }
 ],
 "metadata": {
  "kernelspec": {
   "display_name": "ipy-jupyter-venv3",
   "language": "python",
   "name": "myipy_jupter_env3"
  },
  "language_info": {
   "codemirror_mode": {
    "name": "ipython",
    "version": 3
   },
   "file_extension": ".py",
   "mimetype": "text/x-python",
   "name": "python",
   "nbconvert_exporter": "python",
   "pygments_lexer": "ipython3",
   "version": "3.9.10"
  }
 },
 "nbformat": 4,
 "nbformat_minor": 5
}
