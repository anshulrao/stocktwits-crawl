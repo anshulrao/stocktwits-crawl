{
 "cells": [
  {
   "cell_type": "code",
   "execution_count": 45,
   "id": "efa2c771-cc0b-4468-9bec-d2f7312c0d6f",
   "metadata": {},
   "outputs": [],
   "source": [
    "eth_url = \"https://api.stocktwits.com/api/2/streams/symbol/ETH.X.json\""
   ]
  },
  {
   "cell_type": "code",
   "execution_count": 2,
   "id": "d748962d-8333-4d59-b9ee-4a7da57ea8d1",
   "metadata": {},
   "outputs": [],
   "source": [
    "import requests"
   ]
  },
  {
   "cell_type": "code",
   "execution_count": 3,
   "id": "94a410ff-a711-4caf-b2f0-876d6230de23",
   "metadata": {},
   "outputs": [],
   "source": [
    "import json"
   ]
  },
  {
   "cell_type": "code",
   "execution_count": 46,
   "id": "1316ebdf-2dcb-4dbc-b3cf-25db5d7c757a",
   "metadata": {},
   "outputs": [],
   "source": [
    "response = requests.get(eth_url)"
   ]
  },
  {
   "cell_type": "code",
   "execution_count": 47,
   "id": "ba9dac00-5681-4fe6-bc6b-d50de3b2bbf8",
   "metadata": {},
   "outputs": [],
   "source": [
    "data = json.loads(response.text)"
   ]
  },
  {
   "cell_type": "code",
   "execution_count": 7,
   "id": "4c2d7e47-4af9-4e56-8cd9-92c4dddb716e",
   "metadata": {},
   "outputs": [
    {
     "data": {
      "text/plain": [
       "dict_keys(['response', 'symbol', 'cursor', 'regions', 'messages'])"
      ]
     },
     "execution_count": 7,
     "metadata": {},
     "output_type": "execute_result"
    }
   ],
   "source": [
    "data.keys()"
   ]
  },
  {
   "cell_type": "code",
   "execution_count": 8,
   "id": "e8f1027d-a908-4c88-a5d2-f2ee60156c94",
   "metadata": {},
   "outputs": [
    {
     "data": {
      "text/plain": [
       "{'id': 13016,\n",
       " 'symbol': 'ETH.X',\n",
       " 'title': 'Ethereum',\n",
       " 'aliases': ['ETHUSD'],\n",
       " 'is_following': False,\n",
       " 'watchlist_count': 256784,\n",
       " 'has_pricing': True}"
      ]
     },
     "execution_count": 8,
     "metadata": {},
     "output_type": "execute_result"
    }
   ],
   "source": [
    "data['symbol']"
   ]
  },
  {
   "cell_type": "code",
   "execution_count": 9,
   "id": "8838c849-6bf3-4f05-8903-41b26d92d5c5",
   "metadata": {},
   "outputs": [
    {
     "data": {
      "text/plain": [
       "{'more': True, 'since': 469077046, 'max': 469062634}"
      ]
     },
     "execution_count": 9,
     "metadata": {},
     "output_type": "execute_result"
    }
   ],
   "source": [
    "data['cursor']"
   ]
  },
  {
   "cell_type": "code",
   "execution_count": 10,
   "id": "1782ee2d-ce08-46c6-968d-0b03717aa166",
   "metadata": {},
   "outputs": [
    {
     "data": {
      "text/plain": [
       "dict_keys(['id', 'body', 'created_at', 'user', 'source', 'symbols', 'likes', 'mentioned_users', 'entities'])"
      ]
     },
     "execution_count": 10,
     "metadata": {},
     "output_type": "execute_result"
    }
   ],
   "source": [
    "data['messages'][0].keys()"
   ]
  },
  {
   "cell_type": "code",
   "execution_count": 11,
   "id": "44a22048-76d6-43f7-bdb7-9fbda233d177",
   "metadata": {},
   "outputs": [
    {
     "data": {
      "text/plain": [
       "469077046"
      ]
     },
     "execution_count": 11,
     "metadata": {},
     "output_type": "execute_result"
    }
   ],
   "source": [
    "data['messages'][0]['id']"
   ]
  },
  {
   "cell_type": "code",
   "execution_count": 12,
   "id": "ce605fc4-736d-41b4-bd61-098992d835af",
   "metadata": {},
   "outputs": [
    {
     "data": {
      "text/plain": [
       "'$LUNC.X The epic run in the work.\\n\\nLocked and loaded ===&gt; .0004\\n\\n$DOGE.X $SHIB.X $ETH.X'"
      ]
     },
     "execution_count": 12,
     "metadata": {},
     "output_type": "execute_result"
    }
   ],
   "source": [
    "data['messages'][0]['body']"
   ]
  },
  {
   "cell_type": "code",
   "execution_count": 13,
   "id": "2461fbf3-a4c4-41f4-a391-8c9905612c0b",
   "metadata": {},
   "outputs": [
    {
     "data": {
      "text/plain": [
       "'2022-06-29T17:49:39Z'"
      ]
     },
     "execution_count": 13,
     "metadata": {},
     "output_type": "execute_result"
    }
   ],
   "source": [
    "data['messages'][0]['created_at']"
   ]
  },
  {
   "cell_type": "code",
   "execution_count": 14,
   "id": "70080e07-fc35-42ec-b4e6-528677e479f5",
   "metadata": {},
   "outputs": [
    {
     "data": {
      "text/plain": [
       "{'id': 3233459,\n",
       " 'username': 'MoneyIsJustATool',\n",
       " 'name': 'Andy',\n",
       " 'avatar_url': 'https://avatars.stocktwits.com/production/3233459/thumb-1595289845.png',\n",
       " 'avatar_url_ssl': 'https://avatars.stocktwits.com/production/3233459/thumb-1595289845.png',\n",
       " 'join_date': '2020-03-27',\n",
       " 'official': False,\n",
       " 'identity': 'User',\n",
       " 'classification': [],\n",
       " 'home_country': 'US',\n",
       " 'search_country': 'US',\n",
       " 'followers': 34,\n",
       " 'following': 32,\n",
       " 'ideas': 2234,\n",
       " 'watchlist_stocks_count': 25,\n",
       " 'like_count': 888,\n",
       " 'plus_tier': '',\n",
       " 'premium_room': '',\n",
       " 'trade_app': False,\n",
       " 'trade_status': None}"
      ]
     },
     "execution_count": 14,
     "metadata": {},
     "output_type": "execute_result"
    }
   ],
   "source": [
    "data['messages'][0]['user']"
   ]
  },
  {
   "cell_type": "code",
   "execution_count": 15,
   "id": "265b092b-833f-42c6-91ed-9f3d9e9f5099",
   "metadata": {},
   "outputs": [
    {
     "data": {
      "text/plain": [
       "{'sentiment': {'basic': 'Bullish'}}"
      ]
     },
     "execution_count": 15,
     "metadata": {},
     "output_type": "execute_result"
    }
   ],
   "source": [
    "data['messages'][0]['entities']"
   ]
  },
  {
   "cell_type": "code",
   "execution_count": 16,
   "id": "43e64607-e7e4-45a0-9ebd-5401167ba733",
   "metadata": {},
   "outputs": [],
   "source": [
    "with open(f\"ethereum_{data['cursor']['max']}\", \"w\") as f:\n",
    "    json.dump(data, f)"
   ]
  },
  {
   "cell_type": "code",
   "execution_count": 18,
   "id": "2312864d-7645-47ad-a993-02943c31a5a8",
   "metadata": {},
   "outputs": [
    {
     "data": {
      "text/plain": [
       "30"
      ]
     },
     "execution_count": 18,
     "metadata": {},
     "output_type": "execute_result"
    }
   ],
   "source": [
    "len(data['messages'])"
   ]
  },
  {
   "cell_type": "code",
   "execution_count": 48,
   "id": "bc96c11d-b5e8-4338-bae9-25b4fedb258a",
   "metadata": {},
   "outputs": [],
   "source": [
    "stocktwits_tweets = {\n",
    "    'created_at': [],\n",
    "    'user_name': [],\n",
    "    'user_id': [],\n",
    "    'bear_bull_tag': [],\n",
    "    'text': []\n",
    "}"
   ]
  },
  {
   "cell_type": "code",
   "execution_count": 49,
   "id": "8632c433-c2df-4952-aed5-e83dca8db613",
   "metadata": {},
   "outputs": [],
   "source": [
    "for message in data['messages']:\n",
    "    stocktwits_tweets['text'].append(message['body'])\n",
    "    stocktwits_tweets['created_at'].append(message['created_at'])\n",
    "    try:\n",
    "        stocktwits_tweets['bear_bull_tag'].append(message['entities']['sentiment']['basic'])\n",
    "    except TypeError:\n",
    "        stocktwits_tweets['bear_bull_tag'].append(\"NIL\")\n",
    "    stocktwits_tweets['user_name'].append(message['user']['username'])\n",
    "    stocktwits_tweets['user_id'].append(message['user']['id'])"
   ]
  },
  {
   "cell_type": "code",
   "execution_count": 28,
   "id": "eba2b26f-b6a5-4d04-a824-afbfbca15d94",
   "metadata": {},
   "outputs": [],
   "source": [
    "import pandas as pd"
   ]
  },
  {
   "cell_type": "code",
   "execution_count": 50,
   "id": "a1572189-c8b0-4058-8daf-edd544a9aa7e",
   "metadata": {},
   "outputs": [
    {
     "data": {
      "text/html": [
       "<div>\n",
       "<style scoped>\n",
       "    .dataframe tbody tr th:only-of-type {\n",
       "        vertical-align: middle;\n",
       "    }\n",
       "\n",
       "    .dataframe tbody tr th {\n",
       "        vertical-align: top;\n",
       "    }\n",
       "\n",
       "    .dataframe thead th {\n",
       "        text-align: right;\n",
       "    }\n",
       "</style>\n",
       "<table border=\"1\" class=\"dataframe\">\n",
       "  <thead>\n",
       "    <tr style=\"text-align: right;\">\n",
       "      <th></th>\n",
       "      <th>created_at</th>\n",
       "      <th>user_name</th>\n",
       "      <th>user_id</th>\n",
       "      <th>bear_bull_tag</th>\n",
       "      <th>text</th>\n",
       "    </tr>\n",
       "  </thead>\n",
       "  <tbody>\n",
       "    <tr>\n",
       "      <th>0</th>\n",
       "      <td>2022-06-29T18:17:24Z</td>\n",
       "      <td>Billionaireclubcollc</td>\n",
       "      <td>1505519</td>\n",
       "      <td>NIL</td>\n",
       "      <td>Polkadot’s founder announces steps toward full...</td>\n",
       "    </tr>\n",
       "    <tr>\n",
       "      <th>1</th>\n",
       "      <td>2022-06-29T18:16:34Z</td>\n",
       "      <td>charlie_mack</td>\n",
       "      <td>6543928</td>\n",
       "      <td>Bearish</td>\n",
       "      <td>$ETH.X Y’all stupid trying to get you cerium t...</td>\n",
       "    </tr>\n",
       "    <tr>\n",
       "      <th>2</th>\n",
       "      <td>2022-06-29T18:14:03Z</td>\n",
       "      <td>DevOpLerp</td>\n",
       "      <td>5906790</td>\n",
       "      <td>NIL</td>\n",
       "      <td>$ETH.X so now Hollywood is defunding the police?</td>\n",
       "    </tr>\n",
       "    <tr>\n",
       "      <th>3</th>\n",
       "      <td>2022-06-29T18:11:29Z</td>\n",
       "      <td>tuningin</td>\n",
       "      <td>254176</td>\n",
       "      <td>NIL</td>\n",
       "      <td>$ETH.X so many reasons to be bullish. So many ...</td>\n",
       "    </tr>\n",
       "    <tr>\n",
       "      <th>4</th>\n",
       "      <td>2022-06-29T18:10:50Z</td>\n",
       "      <td>rumneychel</td>\n",
       "      <td>6358556</td>\n",
       "      <td>Bullish</td>\n",
       "      <td>$ETH.X $BTC.X should I chase the pumps \\nWill ...</td>\n",
       "    </tr>\n",
       "    <tr>\n",
       "      <th>5</th>\n",
       "      <td>2022-06-29T18:06:31Z</td>\n",
       "      <td>Bluben</td>\n",
       "      <td>1699159</td>\n",
       "      <td>Bullish</td>\n",
       "      <td>$DOGE.X $LUNC.X  $ETH.X $BTC.X $SHIB.X \\n\\nDog...</td>\n",
       "    </tr>\n",
       "    <tr>\n",
       "      <th>6</th>\n",
       "      <td>2022-06-29T18:05:01Z</td>\n",
       "      <td>A76er76er</td>\n",
       "      <td>3265366</td>\n",
       "      <td>NIL</td>\n",
       "      <td>$ETH.X price action is pretty weak and the res...</td>\n",
       "    </tr>\n",
       "    <tr>\n",
       "      <th>7</th>\n",
       "      <td>2022-06-29T18:04:25Z</td>\n",
       "      <td>The__Warthog</td>\n",
       "      <td>6389310</td>\n",
       "      <td>Bearish</td>\n",
       "      <td>$ETH.X</td>\n",
       "    </tr>\n",
       "    <tr>\n",
       "      <th>8</th>\n",
       "      <td>2022-06-29T18:02:03Z</td>\n",
       "      <td>Billionaireclubcollc</td>\n",
       "      <td>1505519</td>\n",
       "      <td>NIL</td>\n",
       "      <td>It’s time to refocus on crypto infrastructure,...</td>\n",
       "    </tr>\n",
       "    <tr>\n",
       "      <th>9</th>\n",
       "      <td>2022-06-29T17:53:11Z</td>\n",
       "      <td>StocksWithCam</td>\n",
       "      <td>5248069</td>\n",
       "      <td>Bullish</td>\n",
       "      <td>$BTC.X $LUNC.X $UST.X $XRP.X $ETH.X \\n   \\nBRE...</td>\n",
       "    </tr>\n",
       "    <tr>\n",
       "      <th>10</th>\n",
       "      <td>2022-06-29T17:51:55Z</td>\n",
       "      <td>Deep_Value_Crypto</td>\n",
       "      <td>6289096</td>\n",
       "      <td>Bullish</td>\n",
       "      <td>$ZEC.X  price depressing i can barely meme for...</td>\n",
       "    </tr>\n",
       "    <tr>\n",
       "      <th>11</th>\n",
       "      <td>2022-06-29T17:50:59Z</td>\n",
       "      <td>ProfitablePiggg</td>\n",
       "      <td>1853481</td>\n",
       "      <td>Bearish</td>\n",
       "      <td>I think what’s gonna catch most crypto bulls b...</td>\n",
       "    </tr>\n",
       "    <tr>\n",
       "      <th>12</th>\n",
       "      <td>2022-06-29T17:49:39Z</td>\n",
       "      <td>MoneyIsJustATool</td>\n",
       "      <td>3233459</td>\n",
       "      <td>Bullish</td>\n",
       "      <td>$LUNC.X The epic run in the work.\\n\\nLocked an...</td>\n",
       "    </tr>\n",
       "    <tr>\n",
       "      <th>13</th>\n",
       "      <td>2022-06-29T17:49:16Z</td>\n",
       "      <td>Honeycombz11</td>\n",
       "      <td>3975552</td>\n",
       "      <td>Bearish</td>\n",
       "      <td>$ETH.X Getting cannibalized by BTC. Goes down ...</td>\n",
       "    </tr>\n",
       "    <tr>\n",
       "      <th>14</th>\n",
       "      <td>2022-06-29T17:48:54Z</td>\n",
       "      <td>Rollertrader</td>\n",
       "      <td>3841160</td>\n",
       "      <td>Bullish</td>\n",
       "      <td>$LUNC.X The state of the crypto market right n...</td>\n",
       "    </tr>\n",
       "    <tr>\n",
       "      <th>15</th>\n",
       "      <td>2022-06-29T17:48:34Z</td>\n",
       "      <td>Billionaireclubcollc</td>\n",
       "      <td>1505519</td>\n",
       "      <td>NIL</td>\n",
       "      <td>Gal Gadot-Backed AdaSwap Launches Public Testn...</td>\n",
       "    </tr>\n",
       "    <tr>\n",
       "      <th>16</th>\n",
       "      <td>2022-06-29T17:46:36Z</td>\n",
       "      <td>_SuNdAyGrAvY__</td>\n",
       "      <td>6362259</td>\n",
       "      <td>NIL</td>\n",
       "      <td>$AABB $ETH.X $DIGAF  \\nbone marrow ..yes please</td>\n",
       "    </tr>\n",
       "    <tr>\n",
       "      <th>17</th>\n",
       "      <td>2022-06-29T17:45:52Z</td>\n",
       "      <td>ElcaBezudo</td>\n",
       "      <td>5398578</td>\n",
       "      <td>Bearish</td>\n",
       "      <td>$ETH.X there goes your vacations folks</td>\n",
       "    </tr>\n",
       "    <tr>\n",
       "      <th>18</th>\n",
       "      <td>2022-06-29T17:42:43Z</td>\n",
       "      <td>rumneychel</td>\n",
       "      <td>6358556</td>\n",
       "      <td>Bullish</td>\n",
       "      <td>$ETH.X  500 is the bottom</td>\n",
       "    </tr>\n",
       "    <tr>\n",
       "      <th>19</th>\n",
       "      <td>2022-06-29T17:42:17Z</td>\n",
       "      <td>STCKPRO</td>\n",
       "      <td>1555408</td>\n",
       "      <td>NIL</td>\n",
       "      <td>$ETH.X NEW ARTICLE : 3,371 ETH Worth $3M Was J...</td>\n",
       "    </tr>\n",
       "    <tr>\n",
       "      <th>20</th>\n",
       "      <td>2022-06-29T17:42:09Z</td>\n",
       "      <td>Billionaireclubcollc</td>\n",
       "      <td>1505519</td>\n",
       "      <td>NIL</td>\n",
       "      <td>Binance NFT Marketplace Will Support the First...</td>\n",
       "    </tr>\n",
       "    <tr>\n",
       "      <th>21</th>\n",
       "      <td>2022-06-29T17:39:27Z</td>\n",
       "      <td>Billionaireclubcollc</td>\n",
       "      <td>1505519</td>\n",
       "      <td>NIL</td>\n",
       "      <td>$TRON.X With Over 100M Users, Celebrates Mainn...</td>\n",
       "    </tr>\n",
       "    <tr>\n",
       "      <th>22</th>\n",
       "      <td>2022-06-29T17:38:22Z</td>\n",
       "      <td>Opposite_George</td>\n",
       "      <td>5468014</td>\n",
       "      <td>Bullish</td>\n",
       "      <td>$BTC.X $ETH.X  \\n25000 and 1500 is the new to ...</td>\n",
       "    </tr>\n",
       "    <tr>\n",
       "      <th>23</th>\n",
       "      <td>2022-06-29T17:37:49Z</td>\n",
       "      <td>StocksWithCam</td>\n",
       "      <td>5248069</td>\n",
       "      <td>Bullish</td>\n",
       "      <td>$BTC.X $LUNC.X $UST.X $XRP.X $ETH.X  \\nBREAKIN...</td>\n",
       "    </tr>\n",
       "    <tr>\n",
       "      <th>24</th>\n",
       "      <td>2022-06-29T17:34:45Z</td>\n",
       "      <td>ShartMarket</td>\n",
       "      <td>1007119</td>\n",
       "      <td>NIL</td>\n",
       "      <td>$ETH.X</td>\n",
       "    </tr>\n",
       "    <tr>\n",
       "      <th>25</th>\n",
       "      <td>2022-06-29T17:33:34Z</td>\n",
       "      <td>SorosSonosSatoshi</td>\n",
       "      <td>2011874</td>\n",
       "      <td>NIL</td>\n",
       "      <td>$BTC.X soon proudly presentinthe razoring o 16...</td>\n",
       "    </tr>\n",
       "    <tr>\n",
       "      <th>26</th>\n",
       "      <td>2022-06-29T17:33:08Z</td>\n",
       "      <td>TTP16</td>\n",
       "      <td>390247</td>\n",
       "      <td>Bearish</td>\n",
       "      <td>$ETH.X</td>\n",
       "    </tr>\n",
       "    <tr>\n",
       "      <th>27</th>\n",
       "      <td>2022-06-29T17:32:23Z</td>\n",
       "      <td>ChartGuysDan</td>\n",
       "      <td>434891</td>\n",
       "      <td>NIL</td>\n",
       "      <td>Going LIVE in 30 minutes to look at $BTC.x $ET...</td>\n",
       "    </tr>\n",
       "    <tr>\n",
       "      <th>28</th>\n",
       "      <td>2022-06-29T17:32:19Z</td>\n",
       "      <td>WoLFoFWaLlStReET0007</td>\n",
       "      <td>3326991</td>\n",
       "      <td>Bullish</td>\n",
       "      <td>$ETH.X who hooooo...hoodoo.... heeeee haaaa</td>\n",
       "    </tr>\n",
       "    <tr>\n",
       "      <th>29</th>\n",
       "      <td>2022-06-29T17:27:08Z</td>\n",
       "      <td>PELK</td>\n",
       "      <td>3740090</td>\n",
       "      <td>NIL</td>\n",
       "      <td>$SPY $ETH.X 😂😂😂😂😂</td>\n",
       "    </tr>\n",
       "  </tbody>\n",
       "</table>\n",
       "</div>"
      ],
      "text/plain": [
       "              created_at             user_name  user_id bear_bull_tag  \\\n",
       "0   2022-06-29T18:17:24Z  Billionaireclubcollc  1505519           NIL   \n",
       "1   2022-06-29T18:16:34Z          charlie_mack  6543928       Bearish   \n",
       "2   2022-06-29T18:14:03Z             DevOpLerp  5906790           NIL   \n",
       "3   2022-06-29T18:11:29Z              tuningin   254176           NIL   \n",
       "4   2022-06-29T18:10:50Z            rumneychel  6358556       Bullish   \n",
       "5   2022-06-29T18:06:31Z                Bluben  1699159       Bullish   \n",
       "6   2022-06-29T18:05:01Z             A76er76er  3265366           NIL   \n",
       "7   2022-06-29T18:04:25Z          The__Warthog  6389310       Bearish   \n",
       "8   2022-06-29T18:02:03Z  Billionaireclubcollc  1505519           NIL   \n",
       "9   2022-06-29T17:53:11Z         StocksWithCam  5248069       Bullish   \n",
       "10  2022-06-29T17:51:55Z     Deep_Value_Crypto  6289096       Bullish   \n",
       "11  2022-06-29T17:50:59Z       ProfitablePiggg  1853481       Bearish   \n",
       "12  2022-06-29T17:49:39Z      MoneyIsJustATool  3233459       Bullish   \n",
       "13  2022-06-29T17:49:16Z          Honeycombz11  3975552       Bearish   \n",
       "14  2022-06-29T17:48:54Z          Rollertrader  3841160       Bullish   \n",
       "15  2022-06-29T17:48:34Z  Billionaireclubcollc  1505519           NIL   \n",
       "16  2022-06-29T17:46:36Z        _SuNdAyGrAvY__  6362259           NIL   \n",
       "17  2022-06-29T17:45:52Z            ElcaBezudo  5398578       Bearish   \n",
       "18  2022-06-29T17:42:43Z            rumneychel  6358556       Bullish   \n",
       "19  2022-06-29T17:42:17Z               STCKPRO  1555408           NIL   \n",
       "20  2022-06-29T17:42:09Z  Billionaireclubcollc  1505519           NIL   \n",
       "21  2022-06-29T17:39:27Z  Billionaireclubcollc  1505519           NIL   \n",
       "22  2022-06-29T17:38:22Z       Opposite_George  5468014       Bullish   \n",
       "23  2022-06-29T17:37:49Z         StocksWithCam  5248069       Bullish   \n",
       "24  2022-06-29T17:34:45Z           ShartMarket  1007119           NIL   \n",
       "25  2022-06-29T17:33:34Z     SorosSonosSatoshi  2011874           NIL   \n",
       "26  2022-06-29T17:33:08Z                 TTP16   390247       Bearish   \n",
       "27  2022-06-29T17:32:23Z          ChartGuysDan   434891           NIL   \n",
       "28  2022-06-29T17:32:19Z  WoLFoFWaLlStReET0007  3326991       Bullish   \n",
       "29  2022-06-29T17:27:08Z                  PELK  3740090           NIL   \n",
       "\n",
       "                                                 text  \n",
       "0   Polkadot’s founder announces steps toward full...  \n",
       "1   $ETH.X Y’all stupid trying to get you cerium t...  \n",
       "2    $ETH.X so now Hollywood is defunding the police?  \n",
       "3   $ETH.X so many reasons to be bullish. So many ...  \n",
       "4   $ETH.X $BTC.X should I chase the pumps \\nWill ...  \n",
       "5   $DOGE.X $LUNC.X  $ETH.X $BTC.X $SHIB.X \\n\\nDog...  \n",
       "6   $ETH.X price action is pretty weak and the res...  \n",
       "7                                              $ETH.X  \n",
       "8   It’s time to refocus on crypto infrastructure,...  \n",
       "9   $BTC.X $LUNC.X $UST.X $XRP.X $ETH.X \\n   \\nBRE...  \n",
       "10  $ZEC.X  price depressing i can barely meme for...  \n",
       "11  I think what’s gonna catch most crypto bulls b...  \n",
       "12  $LUNC.X The epic run in the work.\\n\\nLocked an...  \n",
       "13  $ETH.X Getting cannibalized by BTC. Goes down ...  \n",
       "14  $LUNC.X The state of the crypto market right n...  \n",
       "15  Gal Gadot-Backed AdaSwap Launches Public Testn...  \n",
       "16    $AABB $ETH.X $DIGAF  \\nbone marrow ..yes please  \n",
       "17             $ETH.X there goes your vacations folks  \n",
       "18                          $ETH.X  500 is the bottom  \n",
       "19  $ETH.X NEW ARTICLE : 3,371 ETH Worth $3M Was J...  \n",
       "20  Binance NFT Marketplace Will Support the First...  \n",
       "21  $TRON.X With Over 100M Users, Celebrates Mainn...  \n",
       "22  $BTC.X $ETH.X  \\n25000 and 1500 is the new to ...  \n",
       "23  $BTC.X $LUNC.X $UST.X $XRP.X $ETH.X  \\nBREAKIN...  \n",
       "24                                             $ETH.X  \n",
       "25  $BTC.X soon proudly presentinthe razoring o 16...  \n",
       "26                                             $ETH.X  \n",
       "27  Going LIVE in 30 minutes to look at $BTC.x $ET...  \n",
       "28        $ETH.X who hooooo...hoodoo.... heeeee haaaa  \n",
       "29                                  $SPY $ETH.X 😂😂😂😂😂  "
      ]
     },
     "execution_count": 50,
     "metadata": {},
     "output_type": "execute_result"
    }
   ],
   "source": [
    "pd.DataFrame(stocktwits_tweets)"
   ]
  },
  {
   "cell_type": "code",
   "execution_count": 51,
   "id": "5887b638-84f9-4d98-9309-8f249da4c6a6",
   "metadata": {},
   "outputs": [],
   "source": [
    "for i in range(33): # 1000/30 ~ 33\n",
    "    # making 'max' the 'since' of latest\n",
    "    # we'll go back from the latest url every time using 'max' to get 1000 latest tweets.\n",
    "    response = requests.get(eth_url + f\"?max={data['cursor']['since']}\")\n",
    "    data = json.loads(response.text)\n",
    "    \n",
    "    with open(f\"ethereum_{data['cursor']['max']}\", \"w\") as f:\n",
    "        json.dump(data, f)\n",
    "\n",
    "    for message in data['messages']:\n",
    "        stocktwits_tweets['text'].append(message['body'])\n",
    "        stocktwits_tweets['created_at'].append(message['created_at'])\n",
    "        try:\n",
    "            stocktwits_tweets['bear_bull_tag'].append(message['entities']['sentiment']['basic'])\n",
    "        except TypeError:\n",
    "            stocktwits_tweets['bear_bull_tag'].append(\"NIL\")\n",
    "        stocktwits_tweets['user_name'].append(message['user']['username'])\n",
    "        stocktwits_tweets['user_id'].append(message['user']['id'])"
   ]
  },
  {
   "cell_type": "code",
   "execution_count": 52,
   "id": "f914ae94-1820-4af8-8873-437d15e3ed4d",
   "metadata": {},
   "outputs": [],
   "source": [
    "df = pd.DataFrame(stocktwits_tweets)"
   ]
  },
  {
   "cell_type": "code",
   "execution_count": 53,
   "id": "123dce97-0470-430e-9472-222f69cae38d",
   "metadata": {},
   "outputs": [
    {
     "data": {
      "text/html": [
       "<div>\n",
       "<style scoped>\n",
       "    .dataframe tbody tr th:only-of-type {\n",
       "        vertical-align: middle;\n",
       "    }\n",
       "\n",
       "    .dataframe tbody tr th {\n",
       "        vertical-align: top;\n",
       "    }\n",
       "\n",
       "    .dataframe thead th {\n",
       "        text-align: right;\n",
       "    }\n",
       "</style>\n",
       "<table border=\"1\" class=\"dataframe\">\n",
       "  <thead>\n",
       "    <tr style=\"text-align: right;\">\n",
       "      <th></th>\n",
       "      <th>created_at</th>\n",
       "      <th>user_name</th>\n",
       "      <th>user_id</th>\n",
       "      <th>bear_bull_tag</th>\n",
       "      <th>text</th>\n",
       "    </tr>\n",
       "  </thead>\n",
       "  <tbody>\n",
       "    <tr>\n",
       "      <th>0</th>\n",
       "      <td>2022-06-29T18:17:24Z</td>\n",
       "      <td>Billionaireclubcollc</td>\n",
       "      <td>1505519</td>\n",
       "      <td>NIL</td>\n",
       "      <td>Polkadot’s founder announces steps toward full...</td>\n",
       "    </tr>\n",
       "    <tr>\n",
       "      <th>1</th>\n",
       "      <td>2022-06-29T18:16:34Z</td>\n",
       "      <td>charlie_mack</td>\n",
       "      <td>6543928</td>\n",
       "      <td>Bearish</td>\n",
       "      <td>$ETH.X Y’all stupid trying to get you cerium t...</td>\n",
       "    </tr>\n",
       "    <tr>\n",
       "      <th>2</th>\n",
       "      <td>2022-06-29T18:14:03Z</td>\n",
       "      <td>DevOpLerp</td>\n",
       "      <td>5906790</td>\n",
       "      <td>NIL</td>\n",
       "      <td>$ETH.X so now Hollywood is defunding the police?</td>\n",
       "    </tr>\n",
       "    <tr>\n",
       "      <th>3</th>\n",
       "      <td>2022-06-29T18:11:29Z</td>\n",
       "      <td>tuningin</td>\n",
       "      <td>254176</td>\n",
       "      <td>NIL</td>\n",
       "      <td>$ETH.X so many reasons to be bullish. So many ...</td>\n",
       "    </tr>\n",
       "    <tr>\n",
       "      <th>4</th>\n",
       "      <td>2022-06-29T18:10:50Z</td>\n",
       "      <td>rumneychel</td>\n",
       "      <td>6358556</td>\n",
       "      <td>Bullish</td>\n",
       "      <td>$ETH.X $BTC.X should I chase the pumps \\nWill ...</td>\n",
       "    </tr>\n",
       "  </tbody>\n",
       "</table>\n",
       "</div>"
      ],
      "text/plain": [
       "             created_at             user_name  user_id bear_bull_tag  \\\n",
       "0  2022-06-29T18:17:24Z  Billionaireclubcollc  1505519           NIL   \n",
       "1  2022-06-29T18:16:34Z          charlie_mack  6543928       Bearish   \n",
       "2  2022-06-29T18:14:03Z             DevOpLerp  5906790           NIL   \n",
       "3  2022-06-29T18:11:29Z              tuningin   254176           NIL   \n",
       "4  2022-06-29T18:10:50Z            rumneychel  6358556       Bullish   \n",
       "\n",
       "                                                text  \n",
       "0  Polkadot’s founder announces steps toward full...  \n",
       "1  $ETH.X Y’all stupid trying to get you cerium t...  \n",
       "2   $ETH.X so now Hollywood is defunding the police?  \n",
       "3  $ETH.X so many reasons to be bullish. So many ...  \n",
       "4  $ETH.X $BTC.X should I chase the pumps \\nWill ...  "
      ]
     },
     "execution_count": 53,
     "metadata": {},
     "output_type": "execute_result"
    }
   ],
   "source": [
    "df.head()"
   ]
  },
  {
   "cell_type": "code",
   "execution_count": 54,
   "id": "88721efa-5e2e-4e66-a605-6aa769385e9b",
   "metadata": {},
   "outputs": [],
   "source": [
    "df.to_csv(\"eth_stocktwits.csv\", index=False)"
   ]
  },
  {
   "cell_type": "code",
   "execution_count": 55,
   "id": "e2dde57a-2b9c-4518-9d90-0feddd898125",
   "metadata": {},
   "outputs": [
    {
     "data": {
      "text/plain": [
       "1020"
      ]
     },
     "execution_count": 55,
     "metadata": {},
     "output_type": "execute_result"
    }
   ],
   "source": [
    "len(df)"
   ]
  }
 ],
 "metadata": {
  "kernelspec": {
   "display_name": "ipy-jupyter-venv3",
   "language": "python",
   "name": "myipy_jupter_env3"
  },
  "language_info": {
   "codemirror_mode": {
    "name": "ipython",
    "version": 3
   },
   "file_extension": ".py",
   "mimetype": "text/x-python",
   "name": "python",
   "nbconvert_exporter": "python",
   "pygments_lexer": "ipython3",
   "version": "3.9.10"
  }
 },
 "nbformat": 4,
 "nbformat_minor": 5
}
